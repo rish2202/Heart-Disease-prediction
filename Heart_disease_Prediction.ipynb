{
  "metadata": {
    "kernelspec": {
      "name": "xpython",
      "display_name": "Python 3.13 (XPython)",
      "language": "python"
    },
    "language_info": {
      "file_extension": ".py",
      "mimetype": "text/x-python",
      "name": "python",
      "version": "3.13.1"
    }
  },
  "nbformat_minor": 5,
  "nbformat": 4,
  "cells": [
    {
      "id": "61449d67-62e9-49e5-b90d-b088571bd133",
      "cell_type": "code",
      "source": "import pandas as pd\nimport numpy as np\nimport matplotlib.pyplot as plt\nimport seaborn as sns\nimport sklearn\nfrom sklearn import tree\nfrom sklearn import metrics\nfrom sklearn.model_selection import train_test_split\nfrom sklearn.metrics import confusion_matrix\nfrom sklearn.metrics import accuracy_score\nfrom sklearn.metrics import classification_report\nfrom sklearn.preprocessing import StandardScaler\nfrom matplotlib.cm import rainbow\n%matplotlib inline\nimport warnings\nwarnings.filterwarnings('ignore')\nfrom matplotlib import rcParams\nfrom sklearn.linear_model import LogisticRegression\nfrom sklearn.svm import SVC\nfrom sklearn.naive_bayes import GaussianNB\nfrom sklearn.tree import DecisionTreeClassifier\ndf = pd.read_csv('HeartDisease.csv')\ndf.info()\ndf.head(80)\ndf['target'].value_counts()\npd.set_option(\"display.float\", \"{:.2f}\".format)\ndf.describe()\ndf.target.value_counts().plot(kind=\"bar\", color=[\"salmon\", \"lightblue\"])\nplt.xlabel('Patient has heart disease')\nplt.ylabel('counts')\nplt.title('Histogram of Patient has heart disease')\ndf.isna().sum()\ncategorical_val = []\ncontinous_val = []\nfor column in df.columns:\nprint('==============================')\nprint(f\"{column} : {df[column].unique()}\")\nif len(df[column].unique()) <= 10:\ncategorical_val.append(column)\nelse:\ncontinous_val.append(column)\nplt.figure(figsize=(15, 15))\nfor i, column in enumerate(categorical_val, 1):\nplt.subplot(3, 3, i)\ndf[df[\"target\"] == 0][column].hist(bins=35, color='blue', label='Have Heart Disease = NO', alpha=0.6)\ndf[df[\"target\"] == 1][column].hist(bins=35, color='red', label='Have Heart Disease = YES', alpha=0.6)\nplt.legend()\nplt.xlabel(column)\ncorr_matrix = df.corr()\nfig, ax = plt.subplots(figsize=(15, 15))\nax = sns.heatmap(corr_matrix,\n                 annot=True,\nlinewidths=0.5,\nfmt=\".2f\",\ncmap=\"YlGnBu\");\nbottom, top = ax.get_ylim()\nax.set_ylim(bottom + 0.5, top - 0.5)\nf.corrwith(df.target).plot(kind='bar', grid=True, figsize=(12, 8),\ntitle=\"Correlation with target\")\nnum_val = df[['age','rest_bps', 'cholestrol', 'thalach', 'old_peak']]\nsns.pairplot(num_val)\ntarget_var = df['target']\nindependent_features = df.drop(columns = ['target'])\ndf = pd.get_dummies(independent_features, columns = ['gender', 'chest_pain',\n'fasting_blood_sugar', 'rest_ecg', 'exer_angina', 'slope', 'ca', 'thalassemia'])\ndf.head()\nsc = StandardScaler()\ncol_to_scale = ['age', 'rest_bps', 'cholestrol', 'thalach', 'old_peak']\ndf[col_to_scale] = sc.fit_transform(df[col_to_scale])\ndf.head()\nX = df\ny = target_var\nX_train, X_test, y_train, y_test = train_test_split(X, y, test_size=0.2,\nrandom_state=42)\ndef print_score(clf, X_train, y_train, X_test, y_test, train=True):\nif train:\npred = clf.predict(X_train)\nclf_report = pd.DataFrame(classification_report(y_train, pred,\noutput_dict=True))\nprint(\"Train Result:\\n================================================\")\nprint(f\"Accuracy Score: {accuracy_score(y_train, pred) * 100:.2f}%\")\nprint(\"_______________________________________________\")\nprint(f\"CLASSIFICATION REPORT:\\n{clf_report}\")\nprint(\"_______________________________________________\")\nprint(f\"Confusion Matrix: \\n {confusion_matrix(y_train, pred)}\\n\")\nelif train==False:\npred = clf.predict(X_test)\nclf_report = pd.DataFrame(classification_report(y_test, pred, output_dict=True))\nprint(\"Test Result:\\n================================================\")\nprint(f\"Accuracy Score: {accuracy_score(y_test, pred) * 100:.2f}%\")\nprint(\"_______________________________________________\")\nprint(f\"CLASSIFICATION REPORT:\\n{clf_report}\")\nprint(\"_______________________________________________\")\nprint(f\"Confusion Matrix: \\n {confusion_matrix(y_test, pred)}\\n\")\nlr_clf = LogisticRegression(solver='liblinear')\nlr_clf.fit(X_train, y_train)\nprint_score(lr_clf, X_train, y_train, X_test, y_test, train=True)\nprint_score(lr_clf, X_train, y_train, X_test, y_test, train=False)\nsvc_clf = SVC()\nsvc_clf.fit(X_train, y_train)\nprint_score(svc_clf, X_train, y_train, X_test, y_test, train=True)\nprint_score(svc_clf, X_train, y_train, X_test, y_test, train=False)\nGaussianNB_clf = GaussianNB()\nGaussianNB_clf.fit(X_train, y_train)\nprint_score(GaussianNB_clf, X_train, y_train, X_test, y_test, train=True)\nprint_score(GaussianNB_clf, X_train, y_train, X_test, y_test, train=False)\ndt_clf = DecisionTreeClassifier()\ndt_clf.fit(X_train, y_train)\nprint_score(dt_clf, X_train, y_train, X_test, y_test, train=True)\nprint_score(dt_clf, X_train, y_train, X_test, y_test, train=False)\naa=( 0.29046364, 0.47839125, -0.10172985, -1.16528085, -0.7243226 ,\n1. , 0. , 1. , 0. , 0. ,\n0. , 1. , 0. , 0. , 1. ,\n0. , 0. , 1. , 0. , 1. ,\n0. , 1. , 0. , 0. , 0. ,\n0. , 0. , 0. , 0. , 1. )\nab=(0.95, 0.76, -0.26, 0.02, 1.09, 0.00, 1.00, 0.00,\n0.00, 0.00, 1.00, 0.00, 1.00, 1.00, 0.00, 0.00,\n1.00, 0.00, 1.00, 0.00, 0.00, 1.00, 0.00, 0.00, 0.00,\n0.00, 0.00, 1.00, 0.00, 0.00)\na = np.asarray(aa)\na = a.reshape(1,-1)\np = svc_clf.predict(a)\nprint(p)\nX_train.iloc[19]\nnew = X_train.iloc[78]\na = np.asarray(new)\na = a.reshape(1,-1)\np = svc_clf.predict(a)\np[0]\nif (p[0] == 1):\nprint(\"Person has heart disease\")\nelse:\nprint(\"Great! the results are normal\")\n",
      "metadata": {
        "trusted": true
      },
      "outputs": [
        {
          "ename": "<class 'IndentationError'>",
          "evalue": "expected an indented block after 'for' statement on line 35 (1858435600.py, line 36)",
          "traceback": [
            "  \u001b[36mCell\u001b[39m\u001b[36m \u001b[39m\u001b[32mIn[6]\u001b[39m\u001b[32m, line 36\u001b[39m\n\u001b[31m    \u001b[39m\u001b[31mprint('==============================')\u001b[39m\n    ^\n\u001b[31mIndentationError\u001b[39m\u001b[31m:\u001b[39m expected an indented block after 'for' statement on line 35\n"
          ],
          "output_type": "error"
        }
      ],
      "execution_count": 6
    },
    {
      "id": "0b85464d-c965-44e9-a12d-8fb65acffa61",
      "cell_type": "code",
      "source": "",
      "metadata": {
        "trusted": true
      },
      "outputs": [],
      "execution_count": null
    }
  ]
}